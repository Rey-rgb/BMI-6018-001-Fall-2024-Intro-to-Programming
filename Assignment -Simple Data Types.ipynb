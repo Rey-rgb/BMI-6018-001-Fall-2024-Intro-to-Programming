{
 "cells": [
  {
   "cell_type": "markdown",
   "id": "135b7153",
   "metadata": {},
   "source": [
    "## Question 1"
   ]
  },
  {
   "cell_type": "code",
   "execution_count": 10,
   "id": "6d8ff5a0",
   "metadata": {},
   "outputs": [
    {
     "data": {
      "text/plain": [
       "2"
      ]
     },
     "execution_count": 10,
     "metadata": {},
     "output_type": "execute_result"
    }
   ],
   "source": [
    "# boolean True + boolean True - boolean False = ?\n",
    "True+True-False"
   ]
  },
  {
   "cell_type": "markdown",
   "id": "2fb58830",
   "metadata": {},
   "source": [
    "## Question 2"
   ]
  },
  {
   "cell_type": "code",
   "execution_count": 21,
   "id": "b85b4cd4",
   "metadata": {},
   "outputs": [
    {
     "data": {
      "text/plain": [
       "1"
      ]
     },
     "execution_count": 21,
     "metadata": {},
     "output_type": "execute_result"
    }
   ],
   "source": [
    "\n",
    "# logical tracker = True\n",
    "\n",
    "# logical tracker = logical tracker & logical tracker\n",
    "\n",
    "# logical tracker = logical tracker | (logical tracker - logical tracker)\n",
    "\n",
    "# logical tracker  = ?\n",
    "\n",
    "# (note: here the response we are looking for the last assigned value of the logical tracker, denoted here by question mark (?) )\n",
    "\n",
    "\n",
    "logical_tracker = True\n",
    "logical_tracker = logical_tracker & logical_tracker\n",
    "logical_tracker = logical_tracker| (logical_tracker - logical_tracker)\n",
    "\n",
    "logical_tracker"
   ]
  },
  {
   "cell_type": "markdown",
   "id": "ac711a45",
   "metadata": {},
   "source": [
    "## Question 5"
   ]
  },
  {
   "cell_type": "code",
   "execution_count": 13,
   "id": "ae906729",
   "metadata": {},
   "outputs": [
    {
     "data": {
      "text/plain": [
       "' '"
      ]
     },
     "execution_count": 13,
     "metadata": {},
     "output_type": "execute_result"
    }
   ],
   "source": [
    "# string = \"E. Coli\"\n",
    "\n",
    "# string[2]=\n",
    "\n",
    "string = \"E. Coli\"\n",
    "string[2]"
   ]
  },
  {
   "cell_type": "markdown",
   "id": "6228f1d6",
   "metadata": {},
   "source": [
    "## Question 6"
   ]
  },
  {
   "cell_type": "code",
   "execution_count": 14,
   "id": "b317d17e",
   "metadata": {},
   "outputs": [
    {
     "ename": "TypeError",
     "evalue": "'str' object does not support item assignment",
     "output_type": "error",
     "traceback": [
      "\u001b[0;31m---------------------------------------------------------------------------\u001b[0m",
      "\u001b[0;31mTypeError\u001b[0m                                 Traceback (most recent call last)",
      "\u001b[0;32m/var/folders/9s/m83p31z54sq2pmb926wsx2yr0000gn/T/ipykernel_8166/3843722984.py\u001b[0m in \u001b[0;36m<module>\u001b[0;34m\u001b[0m\n\u001b[1;32m     10\u001b[0m \u001b[0mstring\u001b[0m \u001b[0;34m=\u001b[0m \u001b[0;34m\"I Bove python\"\u001b[0m\u001b[0;34m\u001b[0m\u001b[0;34m\u001b[0m\u001b[0m\n\u001b[1;32m     11\u001b[0m \u001b[0;34m\u001b[0m\u001b[0m\n\u001b[0;32m---> 12\u001b[0;31m \u001b[0mstring\u001b[0m\u001b[0;34m[\u001b[0m\u001b[0;36m2\u001b[0m\u001b[0;34m]\u001b[0m\u001b[0;34m=\u001b[0m\u001b[0;34m\"L\"\u001b[0m\u001b[0;34m\u001b[0m\u001b[0;34m\u001b[0m\u001b[0m\n\u001b[0m\u001b[1;32m     13\u001b[0m \u001b[0;34m\u001b[0m\u001b[0m\n\u001b[1;32m     14\u001b[0m \u001b[0mstring\u001b[0m\u001b[0;34m\u001b[0m\u001b[0;34m\u001b[0m\u001b[0m\n",
      "\u001b[0;31mTypeError\u001b[0m: 'str' object does not support item assignment"
     ]
    }
   ],
   "source": [
    "# Oh no! My string has a typo!\n",
    "\n",
    "# string = \"I Bove python\"\n",
    "\n",
    "# No worries though. I'll just fix that.\n",
    "\n",
    "# string[2]=\"L\"\n",
    "\n",
    "\n",
    "string = \"I Bove python\"\n",
    "\n",
    "string[2]=\"L\"\n",
    "\n",
    "string"
   ]
  },
  {
   "cell_type": "markdown",
   "id": "7980e9ff",
   "metadata": {},
   "source": [
    "## Question 9"
   ]
  },
  {
   "cell_type": "code",
   "execution_count": 19,
   "id": "8c19f8c1",
   "metadata": {},
   "outputs": [
    {
     "name": "stdout",
     "output_type": "stream",
     "text": [
      "8\n",
      "SunhoIm\n"
     ]
    }
   ],
   "source": [
    "# Explain how the \"+\", addition operation works differently for integers and strings.\n",
    "\n",
    "# With integers, it would add the value. \n",
    "# For example 3+5 = 8.\n",
    "print(3+5)\n",
    "\n",
    "# With strings, it would concatenate the strings. \n",
    "# For example \"Sunho\" + \"Im\" = \"SunhoIm\".\n",
    "print(\"Sunho\"+\"Im\") "
   ]
  },
  {
   "cell_type": "markdown",
   "id": "788352e7",
   "metadata": {},
   "source": [
    "## Question 10"
   ]
  },
  {
   "cell_type": "code",
   "execution_count": 20,
   "id": "3acd6808",
   "metadata": {},
   "outputs": [
    {
     "data": {
      "text/plain": [
       "'73'"
      ]
     },
     "execution_count": 20,
     "metadata": {},
     "output_type": "execute_result"
    }
   ],
   "source": [
    "# Type the output if the strings \"7\" and \"3\" are added.\n",
    "\"7\" + \"3\" "
   ]
  }
 ],
 "metadata": {
  "kernelspec": {
   "display_name": "Python 3 (ipykernel)",
   "language": "python",
   "name": "python3"
  },
  "language_info": {
   "codemirror_mode": {
    "name": "ipython",
    "version": 3
   },
   "file_extension": ".py",
   "mimetype": "text/x-python",
   "name": "python",
   "nbconvert_exporter": "python",
   "pygments_lexer": "ipython3",
   "version": "3.9.7"
  }
 },
 "nbformat": 4,
 "nbformat_minor": 5
}
